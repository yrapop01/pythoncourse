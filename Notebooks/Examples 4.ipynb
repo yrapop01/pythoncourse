{
 "cells": [
  {
   "cell_type": "markdown",
   "metadata": {},
   "source": [
    "# Python Day 4"
   ]
  },
  {
   "cell_type": "markdown",
   "metadata": {},
   "source": [
    "## docstrings and doctest"
   ]
  },
  {
   "cell_type": "code",
   "execution_count": 5,
   "metadata": {
    "collapsed": false
   },
   "outputs": [
    {
     "name": "stdout",
     "output_type": "stream",
     "text": [
      "Help on function plus in module __main__:\n",
      "\n",
      "plus(n, m)\n",
      "    plus function adds two numbers. Sample usage:\n",
      "       \n",
      "    >>> plus(5, 6)\n",
      "    11\n",
      "\n"
     ]
    }
   ],
   "source": [
    "# Define a function:\n",
    "\n",
    "def plus(n, m):\n",
    "    \"\"\"plus function adds two numbers. Sample usage:\n",
    "       \n",
    "    >>> plus(5, 6)\n",
    "    11\n",
    "    \"\"\"\n",
    "    return n + m\n",
    "\n",
    "# The docomentation can be seen using help:\n",
    "help(plus)"
   ]
  },
  {
   "cell_type": "code",
   "execution_count": 6,
   "metadata": {
    "collapsed": false
   },
   "outputs": [
    {
     "data": {
      "text/plain": [
       "TestResults(failed=0, attempted=1)"
      ]
     },
     "execution_count": 6,
     "metadata": {},
     "output_type": "execute_result"
    }
   ],
   "source": [
    "# it can be tested using the doctest module\n",
    "\n",
    "import doctest\n",
    "\n",
    "doctest.testmod()"
   ]
  },
  {
   "cell_type": "markdown",
   "metadata": {},
   "source": [
    "<span style=\"color:red\">Fix the documentation of plus(n, m) so that the test passes.</span>"
   ]
  },
  {
   "cell_type": "markdown",
   "metadata": {},
   "source": [
    "doctest can also be used externally to test all the file by calling:\n",
    "<pre>python -m doctest -v filename.py</pre>\n",
    "docstrings of functions and of classes are stored in their \\__doc__ attribute"
   ]
  },
  {
   "cell_type": "code",
   "execution_count": null,
   "metadata": {
    "collapsed": false
   },
   "outputs": [],
   "source": [
    "class C:\n",
    "    \"\"\"C documentation\"\"\"\n",
    "    pass\n",
    "\n",
    "print(C().__doc__)"
   ]
  },
  {
   "cell_type": "markdown",
   "metadata": {},
   "source": [
    "## Decorator wrappers"
   ]
  },
  {
   "cell_type": "code",
   "execution_count": 17,
   "metadata": {
    "collapsed": false
   },
   "outputs": [
    {
     "name": "stdout",
     "output_type": "stream",
     "text": [
      "4450768576\n",
      "(4450768576, 4450768576)\n"
     ]
    }
   ],
   "source": [
    "# Define the following decorator which runs the decorated function twice and returns a tuple:\n",
    "\n",
    "def duplicated(func):\n",
    "    def wrapper(*args, **kwargs):\n",
    "        return (func(*args, **kwargs), func(*args, **kwargs))\n",
    "    return wrapper\n",
    "\n",
    "double_id = duplicated(id)\n",
    "\n",
    "s = '12345'\n",
    "print(id(s))\n",
    "print(double_id('12345'))"
   ]
  },
  {
   "cell_type": "code",
   "execution_count": 18,
   "metadata": {
    "collapsed": false
   },
   "outputs": [
    {
     "name": "stdout",
     "output_type": "stream",
     "text": [
      "(5, 5)\n",
      "No Python documentation found for 'this function returns (5, 5)'.\n",
      "Use help() to get the interactive help utility.\n",
      "Use help(str) for help on the str class.\n",
      "\n"
     ]
    }
   ],
   "source": [
    "# Decorating a function can also be done using @\n",
    "\n",
    "@duplicated\n",
    "def five():\n",
    "    \"\"\"this function returns (5, 5)\"\"\"\n",
    "    return 5\n",
    "\n",
    "print(five())\n",
    "help(five.__doc__)"
   ]
  },
  {
   "cell_type": "code",
   "execution_count": 20,
   "metadata": {
    "collapsed": false
   },
   "outputs": [
    {
     "name": "stdout",
     "output_type": "stream",
     "text": [
      "this function returns 5\n"
     ]
    }
   ],
   "source": [
    "# Decorators ruin the docstrings:\n",
    "\n",
    "print(five.__doc__)"
   ]
  },
  {
   "cell_type": "code",
   "execution_count": 21,
   "metadata": {
    "collapsed": false
   },
   "outputs": [
    {
     "name": "stdout",
     "output_type": "stream",
     "text": [
      "[5, 5]\n",
      "this function returns (5, 5)\n"
     ]
    }
   ],
   "source": [
    "# To save the docstring we can use functools.wraps decorator\n",
    "\n",
    "from functools import wraps\n",
    "\n",
    "def duplicated(func):\n",
    "    @wraps(func)\n",
    "    def wrapper(*args, **kwargs):\n",
    "        return [func(*args, **kwargs)] * 2\n",
    "    return wrapper\n",
    "\n",
    "@duplicated\n",
    "def five():\n",
    "    \"\"\"this function returns (5, 5)\"\"\"\n",
    "    return 5\n",
    "\n",
    "print(five())\n",
    "print(five.__doc__)"
   ]
  },
  {
   "cell_type": "markdown",
   "metadata": {},
   "source": [
    "## Courroutines"
   ]
  },
  {
   "cell_type": "code",
   "execution_count": null,
   "metadata": {
    "collapsed": false
   },
   "outputs": [],
   "source": [
    "# yield can be used to not only to return values but also to receive them.\n",
    "\n",
    "def consumer():\n",
    "    value = yield\n",
    "    while True:\n",
    "        print(value)\n",
    "        value = yield\n",
    "\n",
    "def producer(consumer):\n",
    "    next(consumer)\n",
    "    for i in range(16):\n",
    "        consumer.send(i)\n",
    "\n",
    "producer(consumer())"
   ]
  },
  {
   "cell_type": "markdown",
   "metadata": {},
   "source": [
    "## numpy"
   ]
  },
  {
   "cell_type": "code",
   "execution_count": 9,
   "metadata": {
    "collapsed": false
   },
   "outputs": [
    {
     "name": "stdout",
     "output_type": "stream",
     "text": [
      "[0 2 4 6]\n",
      "(4,)\n",
      "(2, 4)\n",
      "[ 0.36662602  0.89663586  0.81785317  0.36237814  0.35130237]\n"
     ]
    }
   ],
   "source": [
    "# numpy is the advanced math module for python\n",
    "# to install it run in the shell: pip install numpy\n",
    "\n",
    "# numpy, together with scipy and matplotlib implement many of Matlab's functionality.\n",
    "# Matlab users can use the following reference of numpy & scipy:\n",
    "#  https://docs.scipy.org/doc/numpy-dev/user/numpy-for-matlab-users.html\n",
    "\n",
    "import numpy as np\n",
    "\n",
    "# Create a vector (1-d numpy array)\n",
    "a = np.array([0, 1, 2, 3])\n",
    "print(a * 2)\n",
    "print(a.shape)\n",
    "\n",
    "# Create a matrix (2-d numpy array)\n",
    "b = np.array([a, a])\n",
    "print(b.shape)\n",
    "\n",
    "# Create identity matrix\n",
    "c = np.random.rand(5)\n",
    "print(c)"
   ]
  },
  {
   "cell_type": "code",
   "execution_count": 10,
   "metadata": {
    "collapsed": false
   },
   "outputs": [
    {
     "data": {
      "text/plain": [
       "array([[1, 2, 3],\n",
       "       [4, 5, 6]])"
      ]
     },
     "execution_count": 10,
     "metadata": {},
     "output_type": "execute_result"
    }
   ],
   "source": [
    "# matrix can be indexed by rows\n",
    "a = np.array([[1, 2, 3], [4,5,6]])\n",
    "a[:2]"
   ]
  },
  {
   "cell_type": "code",
   "execution_count": 11,
   "metadata": {
    "collapsed": false
   },
   "outputs": [
    {
     "data": {
      "image/png": "[encoded data removed]",
      "text/plain": [
       "<matplotlib.figure.Figure at 0x10960b978>"
      ]
     },
     "metadata": {},
     "output_type": "display_data"
    }
   ],
   "source": [
    "# matplotlib contains plotting functions for numpy arrays\n",
    "\n",
    "import matplotlib.pyplot as plt\n",
    "\n",
    "x = np.arange(100) / 2 / np.pi\n",
    "y = np.sin(x)\n",
    "\n",
    "plt.plot(x, y)\n",
    "plt.show()"
   ]
  },
  {
   "cell_type": "code",
   "execution_count": null,
   "metadata": {
    "collapsed": true
   },
   "outputs": [],
   "source": []
  }
 ],
 "metadata": {
  "kernelspec": {
   "display_name": "Python 3",
   "language": "python",
   "name": "python3"
  },
  "language_info": {
   "codemirror_mode": {
    "name": "ipython",
    "version": 3
   },
   "file_extension": ".py",
   "mimetype": "text/x-python",
   "name": "python",
   "nbconvert_exporter": "python",
   "pygments_lexer": "ipython3",
   "version": "3.5.2"
  }
 },
 "nbformat": 4,
 "nbformat_minor": 1
}
