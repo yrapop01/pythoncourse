{
 "cells": [
  {
   "cell_type": "markdown",
   "metadata": {
    "collapsed": true
   },
   "source": [
    "# Python Examples 3"
   ]
  },
  {
   "cell_type": "markdown",
   "metadata": {},
   "source": [
    "## Namespaces"
   ]
  },
  {
   "cell_type": "code",
   "execution_count": 1,
   "metadata": {
    "collapsed": false
   },
   "outputs": [
    {
     "name": "stdout",
     "output_type": "stream",
     "text": [
      "{'6': [6, 36], '10': [10, 100], '5': [5, 25], '3': [3, 9], '11': [11, 121], '0': [0, 0], '7': [7, 49], '13': [13, 169], '1': [1, 1], '9': [9, 81], '8': [8, 64], '14': [14, 196], '2': [2, 4], '12': [12, 144], '4': [4, 16]}\n"
     ]
    }
   ],
   "source": [
    "from pprint import pprint\n",
    "\n",
    "print({str(i) : [i, i ** 2] for i in range(15)})"
   ]
  },
  {
   "cell_type": "code",
   "execution_count": 11,
   "metadata": {
    "collapsed": false
   },
   "outputs": [
    {
     "name": "stdout",
     "output_type": "stream",
     "text": [
      "{'m': 2, 'n': 1}\n"
     ]
    }
   ],
   "source": [
    "## Run the following:\n",
    "\n",
    "def f(n, m):\n",
    "    pprint(locals())\n",
    "    #pprint(globals())\n",
    "\n",
    "f(1, 2)"
   ]
  },
  {
   "cell_type": "code",
   "execution_count": 12,
   "metadata": {
    "collapsed": false
   },
   "outputs": [
    {
     "name": "stdout",
     "output_type": "stream",
     "text": [
      "['ArithmeticError',\n",
      " 'AssertionError',\n",
      " 'AttributeError',\n",
      " 'BaseException',\n",
      " 'BlockingIOError',\n",
      " 'BrokenPipeError',\n",
      " 'BufferError',\n",
      " 'BytesWarning',\n",
      " 'ChildProcessError',\n",
      " 'ConnectionAbortedError',\n",
      " 'ConnectionError',\n",
      " 'ConnectionRefusedError',\n",
      " 'ConnectionResetError',\n",
      " 'DeprecationWarning',\n",
      " 'EOFError',\n",
      " 'Ellipsis',\n",
      " 'EnvironmentError',\n",
      " 'Exception',\n",
      " 'False',\n",
      " 'FileExistsError',\n",
      " 'FileNotFoundError',\n",
      " 'FloatingPointError',\n",
      " 'FutureWarning',\n",
      " 'GeneratorExit',\n",
      " 'IOError',\n",
      " 'ImportError',\n",
      " 'ImportWarning',\n",
      " 'IndentationError',\n",
      " 'IndexError',\n",
      " 'InterruptedError',\n",
      " 'IsADirectoryError',\n",
      " 'KeyError',\n",
      " 'KeyboardInterrupt',\n",
      " 'LookupError',\n",
      " 'MemoryError',\n",
      " 'NameError',\n",
      " 'None',\n",
      " 'NotADirectoryError',\n",
      " 'NotImplemented',\n",
      " 'NotImplementedError',\n",
      " 'OSError',\n",
      " 'OverflowError',\n",
      " 'PendingDeprecationWarning',\n",
      " 'PermissionError',\n",
      " 'ProcessLookupError',\n",
      " 'ReferenceError',\n",
      " 'ResourceWarning',\n",
      " 'RuntimeError',\n",
      " 'RuntimeWarning',\n",
      " 'StopIteration',\n",
      " 'SyntaxError',\n",
      " 'SyntaxWarning',\n",
      " 'SystemError',\n",
      " 'SystemExit',\n",
      " 'TabError',\n",
      " 'TimeoutError',\n",
      " 'True',\n",
      " 'TypeError',\n",
      " 'UnboundLocalError',\n",
      " 'UnicodeDecodeError',\n",
      " 'UnicodeEncodeError',\n",
      " 'UnicodeError',\n",
      " 'UnicodeTranslateError',\n",
      " 'UnicodeWarning',\n",
      " 'UserWarning',\n",
      " 'ValueError',\n",
      " 'Warning',\n",
      " 'ZeroDivisionError',\n",
      " '__IPYTHON__',\n",
      " '__build_class__',\n",
      " '__debug__',\n",
      " '__doc__',\n",
      " '__import__',\n",
      " '__loader__',\n",
      " '__name__',\n",
      " '__package__',\n",
      " '__spec__',\n",
      " 'abs',\n",
      " 'all',\n",
      " 'any',\n",
      " 'ascii',\n",
      " 'bin',\n",
      " 'bool',\n",
      " 'bytearray',\n",
      " 'bytes',\n",
      " 'callable',\n",
      " 'chr',\n",
      " 'classmethod',\n",
      " 'compile',\n",
      " 'complex',\n",
      " 'copyright',\n",
      " 'credits',\n",
      " 'delattr',\n",
      " 'dict',\n",
      " 'dir',\n",
      " 'divmod',\n",
      " 'dreload',\n",
      " 'enumerate',\n",
      " 'eval',\n",
      " 'exec',\n",
      " 'filter',\n",
      " 'float',\n",
      " 'format',\n",
      " 'frozenset',\n",
      " 'get_ipython',\n",
      " 'getattr',\n",
      " 'globals',\n",
      " 'hasattr',\n",
      " 'hash',\n",
      " 'help',\n",
      " 'hex',\n",
      " 'id',\n",
      " 'input',\n",
      " 'int',\n",
      " 'isinstance',\n",
      " 'issubclass',\n",
      " 'iter',\n",
      " 'len',\n",
      " 'license',\n",
      " 'list',\n",
      " 'locals',\n",
      " 'map',\n",
      " 'max',\n",
      " 'memoryview',\n",
      " 'min',\n",
      " 'next',\n",
      " 'object',\n",
      " 'oct',\n",
      " 'open',\n",
      " 'ord',\n",
      " 'pow',\n",
      " 'print',\n",
      " 'property',\n",
      " 'range',\n",
      " 'repr',\n",
      " 'reversed',\n",
      " 'round',\n",
      " 'set',\n",
      " 'setattr',\n",
      " 'slice',\n",
      " 'sorted',\n",
      " 'staticmethod',\n",
      " 'str',\n",
      " 'sum',\n",
      " 'super',\n",
      " 'tuple',\n",
      " 'type',\n",
      " 'vars',\n",
      " 'zip']\n"
     ]
    }
   ],
   "source": [
    "pprint(dir(__builtins__))"
   ]
  },
  {
   "cell_type": "markdown",
   "metadata": {},
   "source": [
    "# Function Arguments"
   ]
  },
  {
   "cell_type": "code",
   "execution_count": 17,
   "metadata": {
    "collapsed": false
   },
   "outputs": [
    {
     "name": "stdout",
     "output_type": "stream",
     "text": [
      "Normal arguments:\n",
      "  0 tomorrow\n",
      "  1 may\n",
      "  2 rain\n",
      "  3 so\n",
      "  4 I'll\n",
      "  5 follow\n",
      "  6 the\n",
      "  7 sun\n",
      "Keyword arguments:\n"
     ]
    }
   ],
   "source": [
    "# Run the code below:\n",
    "\n",
    "def f(*args, **kwargs):\n",
    "    print('Normal arguments:')\n",
    "    for i, arg in enumerate(args):\n",
    "        print(' ', i, arg)\n",
    "    \n",
    "    print('Keyword arguments:')\n",
    "    for key, val in kwargs.items():\n",
    "        print(' {}: {}'.format(key, val))\n",
    "\n",
    "f('tomorrow', 'may', 'rain', 'so', \"I'll\", 'follow', 'the', 'sun', Authors='The Beatles', Year=1962)"
   ]
  },
  {
   "cell_type": "code",
   "execution_count": 15,
   "metadata": {
    "collapsed": false
   },
   "outputs": [
    {
     "name": "stdout",
     "output_type": "stream",
     "text": [
      "15625\n",
      "The family name of Andrew is Smith\n"
     ]
    }
   ],
   "source": [
    "# Run the following code (and complete the TODO sections):\n",
    "\n",
    "def f(n, m):\n",
    "    print(n ** m)\n",
    "\n",
    "pair = (5, 6)\n",
    "\n",
    "# TODO: print the value of pair[0] power pair[1] with indeing it.\n",
    "f(*pair)\n",
    "          \n",
    "def f(name, family):\n",
    "    print('The family name of {} is {}'.format(name, family))\n",
    "\n",
    "fullname = {'name': 'Andrew', 'family': 'Smith'}\n",
    "\n",
    "# TODO: pass fullname items as arguments to f without indexing it.\n",
    "#f(**fullname)\n",
    "f(name='Andrew', family='Smith')"
   ]
  },
  {
   "cell_type": "markdown",
   "metadata": {},
   "source": [
    "## More On Types"
   ]
  },
  {
   "cell_type": "code",
   "execution_count": 18,
   "metadata": {
    "collapsed": false
   },
   "outputs": [
    {
     "name": "stdout",
     "output_type": "stream",
     "text": [
      "<class 'int'>\n",
      "<class 'type'>\n",
      "<class 'type'>\n"
     ]
    }
   ],
   "source": [
    "# Run the following code\n",
    "\n",
    "print(type(8))\n",
    "print(type(type(8)))\n",
    "print(type(type(type(8))))"
   ]
  },
  {
   "cell_type": "markdown",
   "metadata": {},
   "source": [
    "<span style=\"color:red\">\n",
    "What is the type of class type?\n",
    "</span>"
   ]
  },
  {
   "cell_type": "code",
   "execution_count": 19,
   "metadata": {
    "collapsed": false
   },
   "outputs": [
    {
     "name": "stdout",
     "output_type": "stream",
     "text": [
      "<class 'int'> <class 'float'> <class 'tuple'> <class 'list'> <class 'dict'> <class 'set'>\n",
      "<class 'complex'>\n"
     ]
    }
   ],
   "source": [
    "print(type(8), type(8.5), type((1, 2)), type([1, 2]), type({1: 2}), type({1, 2}))\n",
    "\n",
    "num = complex(1, 2)\n",
    "print(type(num))"
   ]
  },
  {
   "cell_type": "code",
   "execution_count": 20,
   "metadata": {
    "collapsed": false
   },
   "outputs": [
    {
     "name": "stderr",
     "output_type": "stream",
     "text": [
      "Traceback (most recent call last):\n",
      "  File \"<ipython-input-20-2a5024d151bf>\", line 7, in <module>\n",
      "    s[0] = 0\n",
      "TypeError: 'frozenset' object does not support item assignment\n"
     ]
    }
   ],
   "source": [
    "# traceback module can be used to trace back exceptions.\n",
    "import traceback\n",
    "\n",
    "s = frozenset({1, 2})\n",
    "\n",
    "try:\n",
    "    s[0] = 0\n",
    "except TypeError:\n",
    "    traceback.print_exc()"
   ]
  },
  {
   "cell_type": "code",
   "execution_count": 23,
   "metadata": {
    "collapsed": false
   },
   "outputs": [
    {
     "name": "stdout",
     "output_type": "stream",
     "text": [
      "{2: 3, 3: 4}\n"
     ]
    }
   ],
   "source": [
    "# Run the following code:\n",
    "d = {1:2, 2:3, 3:4}\n",
    "\n",
    "del d[1]\n",
    "print(d)"
   ]
  },
  {
   "cell_type": "markdown",
   "metadata": {},
   "source": [
    "What happened?"
   ]
  },
  {
   "cell_type": "code",
   "execution_count": 42,
   "metadata": {
    "collapsed": false
   },
   "outputs": [
    {
     "name": "stdout",
     "output_type": "stream",
     "text": [
      "5\n"
     ]
    }
   ],
   "source": [
    "# Run the following code:\n",
    "\n",
    "class C(object):\n",
    "    def __init__(self):\n",
    "        self.value = 5\n",
    "    def __str__(self):\n",
    "        return str(self.value)\n",
    "c = C()\n",
    "#print(dir(c))\n",
    "print(str(c))"
   ]
  },
  {
   "cell_type": "markdown",
   "metadata": {},
   "source": [
    "dir() function allows to list items of modules, functions and user defined objects."
   ]
  },
  {
   "cell_type": "code",
   "execution_count": 39,
   "metadata": {
    "collapsed": false
   },
   "outputs": [],
   "source": [
    "del c.value"
   ]
  },
  {
   "cell_type": "markdown",
   "metadata": {},
   "source": [
    "What happened?"
   ]
  },
  {
   "cell_type": "code",
   "execution_count": 43,
   "metadata": {
    "collapsed": false
   },
   "outputs": [
    {
     "data": {
      "text/plain": [
       "['__annotations__',\n",
       " '__call__',\n",
       " '__class__',\n",
       " '__closure__',\n",
       " '__code__',\n",
       " '__defaults__',\n",
       " '__delattr__',\n",
       " '__dict__',\n",
       " '__dir__',\n",
       " '__doc__',\n",
       " '__eq__',\n",
       " '__format__',\n",
       " '__ge__',\n",
       " '__get__',\n",
       " '__getattribute__',\n",
       " '__globals__',\n",
       " '__gt__',\n",
       " '__hash__',\n",
       " '__init__',\n",
       " '__kwdefaults__',\n",
       " '__le__',\n",
       " '__lt__',\n",
       " '__module__',\n",
       " '__name__',\n",
       " '__ne__',\n",
       " '__new__',\n",
       " '__qualname__',\n",
       " '__reduce__',\n",
       " '__reduce_ex__',\n",
       " '__repr__',\n",
       " '__setattr__',\n",
       " '__sizeof__',\n",
       " '__str__',\n",
       " '__subclasshook__']"
      ]
     },
     "execution_count": 43,
     "metadata": {},
     "output_type": "execute_result"
    }
   ],
   "source": [
    "# Run the code below to list the attribute of function objects:\n",
    "\n",
    "def f():\n",
    "    print(5)\n",
    "\n",
    "dir(f)"
   ]
  },
  {
   "cell_type": "markdown",
   "metadata": {},
   "source": [
    "## Inheritance"
   ]
  },
  {
   "cell_type": "code",
   "execution_count": 48,
   "metadata": {
    "collapsed": false
   },
   "outputs": [
    {
     "name": "stdout",
     "output_type": "stream",
     "text": [
      "Singing\n",
      "Dancing\n"
     ]
    }
   ],
   "source": [
    "# Run the following code:\n",
    "\n",
    "class Dad(object):\n",
    "    def sing(self):\n",
    "        print('Singing')\n",
    "\n",
    "class Mom(object):\n",
    "    def dance(self):\n",
    "        print('Dancing')\n",
    "\n",
    "class Kid(Mom, Dad):\n",
    "    pass\n",
    "\n",
    "kid = Kid()\n",
    "kid.sing()\n",
    "kid.dance()"
   ]
  },
  {
   "cell_type": "code",
   "execution_count": 51,
   "metadata": {
    "collapsed": false
   },
   "outputs": [
    {
     "name": "stdout",
     "output_type": "stream",
     "text": [
      "True\n",
      "True\n"
     ]
    }
   ],
   "source": [
    "\n",
    "print(isinstance(kid, Mom))\n",
    "print(isinstance(kid, Dad))"
   ]
  },
  {
   "cell_type": "code",
   "execution_count": 53,
   "metadata": {
    "collapsed": false
   },
   "outputs": [
    {
     "data": {
      "text/plain": [
       "125"
      ]
     },
     "execution_count": 53,
     "metadata": {},
     "output_type": "execute_result"
    }
   ],
   "source": [
    "# Overriding functions:\n",
    "\n",
    "class Base(object):\n",
    "    def f(self, n):\n",
    "        return n * n\n",
    "\n",
    "class Derivative(Base):\n",
    "    def f(self, m):\n",
    "        return super().f(m) * m\n",
    "        \n",
    "d = Derivative()\n",
    "d.f(5)"
   ]
  },
  {
   "cell_type": "markdown",
   "metadata": {},
   "source": [
    "## Callable Objects"
   ]
  },
  {
   "cell_type": "code",
   "execution_count": null,
   "metadata": {
    "collapsed": false
   },
   "outputs": [],
   "source": [
    "def f():\n",
    "    \"\"\"This is a docstring. It is seen in the interpreter when using help() function\"\"\"\n",
    "    print(5)\n",
    "\n",
    "help(f)"
   ]
  },
  {
   "cell_type": "code",
   "execution_count": null,
   "metadata": {
    "collapsed": false
   },
   "outputs": [],
   "source": [
    "print(f.__doc__)"
   ]
  },
  {
   "cell_type": "code",
   "execution_count": 54,
   "metadata": {
    "collapsed": false
   },
   "outputs": [
    {
     "name": "stdout",
     "output_type": "stream",
     "text": [
      "5\n"
     ]
    }
   ],
   "source": [
    "# Define callable object g which behaves similarly to the function f (using the __call__ function)\n",
    "\n",
    "class G(object):    \n",
    "    def __call__(self):\n",
    "        print(5)\n",
    "\n",
    "g = G()\n",
    "g()"
   ]
  },
  {
   "cell_type": "markdown",
   "metadata": {},
   "source": [
    "## Iterator Objects"
   ]
  },
  {
   "cell_type": "code",
   "execution_count": 55,
   "metadata": {
    "collapsed": false
   },
   "outputs": [
    {
     "data": {
      "text/plain": [
       "['__class__',\n",
       " '__del__',\n",
       " '__delattr__',\n",
       " '__dir__',\n",
       " '__doc__',\n",
       " '__eq__',\n",
       " '__format__',\n",
       " '__ge__',\n",
       " '__getattribute__',\n",
       " '__gt__',\n",
       " '__hash__',\n",
       " '__init__',\n",
       " '__iter__',\n",
       " '__le__',\n",
       " '__lt__',\n",
       " '__name__',\n",
       " '__ne__',\n",
       " '__new__',\n",
       " '__next__',\n",
       " '__reduce__',\n",
       " '__reduce_ex__',\n",
       " '__repr__',\n",
       " '__setattr__',\n",
       " '__sizeof__',\n",
       " '__str__',\n",
       " '__subclasshook__',\n",
       " 'close',\n",
       " 'gi_code',\n",
       " 'gi_frame',\n",
       " 'gi_running',\n",
       " 'send',\n",
       " 'throw']"
      ]
     },
     "execution_count": 55,
     "metadata": {},
     "output_type": "execute_result"
    }
   ],
   "source": [
    "# Run the following code:\n",
    "def gen():\n",
    "    for i in range(5):\n",
    "        yield i\n",
    "\n",
    "g = gen()\n",
    "dir(g)"
   ]
  },
  {
   "cell_type": "code",
   "execution_count": 59,
   "metadata": {
    "collapsed": false
   },
   "outputs": [],
   "source": [
    "## Implement an object that behaves similarly to the generator G (using the __iter__ and __next__ functions)\n",
    "\n",
    "class G(object):\n",
    "    def __init__(self):\n",
    "        self._i = -1\n",
    "    \n",
    "    def __next__(self):\n",
    "        if self._i == 4:\n",
    "            raise StopIteration()\n",
    "        self._i += 1\n",
    "        return self._i\n",
    "    \n",
    "    def __iter__(self):\n",
    "        self._i = -1\n",
    "        return self"
   ]
  },
  {
   "cell_type": "code",
   "execution_count": 60,
   "metadata": {
    "collapsed": false
   },
   "outputs": [
    {
     "name": "stdout",
     "output_type": "stream",
     "text": [
      "0\n",
      "1\n",
      "2\n",
      "3\n",
      "4\n",
      "0\n",
      "1\n",
      "2\n",
      "3\n",
      "4\n"
     ]
    }
   ],
   "source": [
    "g = G()\n",
    "for i in g:\n",
    "    print(i)\n",
    "\n",
    "for i in g:\n",
    "     print(i)"
   ]
  },
  {
   "cell_type": "markdown",
   "metadata": {
    "collapsed": true
   },
   "source": [
    "## More Special Names\n",
    "\n",
    "A class can implement certain operations that are invoked by special syntax (such as arithmetic operations or subscripting and slicing) by defining methods with special names. "
   ]
  },
  {
   "cell_type": "code",
   "execution_count": 62,
   "metadata": {
    "collapsed": false
   },
   "outputs": [
    {
     "name": "stdout",
     "output_type": "stream",
     "text": [
      "OK\n",
      "False\n",
      "56\n",
      "['__class__', '__delattr__', '__dict__', '__dir__', '__doc__', '__eq__', '__format__', '__ge__', '__getattr__', '__getattribute__', '__gt__', '__hash__', '__init__', '__le__', '__lt__', '__module__', '__ne__', '__new__', '__reduce__', '__reduce_ex__', '__repr__', '__setattr__', '__sizeof__', '__str__', '__subclasshook__', '__weakref__']\n",
      "False\n"
     ]
    }
   ],
   "source": [
    "# Special method names:\n",
    "\n",
    "class C(object):\n",
    "    def __str__(self):\n",
    "        return 'OK'\n",
    "    def __eq__(self, other):\n",
    "        return other == 50\n",
    "    def __getattr__(self, name):\n",
    "        if name == 'value':\n",
    "            return 56\n",
    "\n",
    "c = C()\n",
    "print(str(c))\n",
    "print(c == 51)\n",
    "print(c.value)\n",
    "print(dir(c))\n",
    "print('value' in dir(c))"
   ]
  },
  {
   "cell_type": "markdown",
   "metadata": {},
   "source": [
    "<span style=\"color:red\">\n",
    "Implement a class Attribs such that when an attribute that doesn't exist is accessed, it adds such an attribute to the instance with default value 'NewAttrib'. Allow getting object's attributes through indexing.\n",
    "</span>"
   ]
  },
  {
   "cell_type": "code",
   "execution_count": 64,
   "metadata": {
    "collapsed": false
   },
   "outputs": [],
   "source": [
    "class Attribs(object):\n",
    "    def __getattr__(self, name):\n",
    "        if name not in self.__dict__:\n",
    "            self.__dict__[name] = 'NewAttrib'\n",
    "            return self.__dict__[name]\n",
    "    def __getitem__(self, name):\n",
    "        return self.__getattribute__(name)"
   ]
  },
  {
   "cell_type": "code",
   "execution_count": 68,
   "metadata": {
    "collapsed": false
   },
   "outputs": [
    {
     "data": {
      "text/plain": [
       "5"
      ]
     },
     "execution_count": 68,
     "metadata": {},
     "output_type": "execute_result"
    }
   ],
   "source": [
    "# Test your class:\n",
    "\n",
    "obj = Attribs()\n",
    "\n",
    "obj.item = 5\n",
    "obj['item']\n"
   ]
  },
  {
   "cell_type": "markdown",
   "metadata": {},
   "source": [
    "## Private Attributes"
   ]
  },
  {
   "cell_type": "code",
   "execution_count": 69,
   "metadata": {
    "collapsed": false
   },
   "outputs": [],
   "source": [
    "# Define the following class:\n",
    "\n",
    "class Confidential(object):\n",
    "    def __init__(self):\n",
    "        # By convention, a name prefixed with an underscore \n",
    "        # should be treated as a non-public part of the API\n",
    "        self._username = 'user'\n",
    "        \n",
    "        # There is a limited support for really *hiding* names\n",
    "        # prefixed by *two* underscores\n",
    "        self.__password = '12345678'"
   ]
  },
  {
   "cell_type": "code",
   "execution_count": 71,
   "metadata": {
    "collapsed": false
   },
   "outputs": [
    {
     "name": "stderr",
     "output_type": "stream",
     "text": [
      "Traceback (most recent call last):\n",
      "  File \"<ipython-input-71-db5505e3a3de>\", line 6, in <module>\n",
      "    confidential.__password\n",
      "AttributeError: 'Confidential' object has no attribute '__password'\n"
     ]
    }
   ],
   "source": [
    "# Try to access the \"private\" member from outside the class:\n",
    "import traceback\n",
    "\n",
    "confidential = Confidential()\n",
    "try:\n",
    "    confidential.__password\n",
    "except AttributeError:\n",
    "    traceback.print_exc()"
   ]
  },
  {
   "cell_type": "markdown",
   "metadata": {},
   "source": [
    "<span style=\"color:red\">\n",
    "Write code that accesses confidential.__password.<br/>\n",
    "Hint: run dir(confidential) to list all the attributes of the instance.\n",
    "</span>"
   ]
  },
  {
   "cell_type": "code",
   "execution_count": 72,
   "metadata": {
    "collapsed": false
   },
   "outputs": [
    {
     "data": {
      "text/plain": [
       "['_Confidential__password',\n",
       " '__class__',\n",
       " '__delattr__',\n",
       " '__dict__',\n",
       " '__dir__',\n",
       " '__doc__',\n",
       " '__eq__',\n",
       " '__format__',\n",
       " '__ge__',\n",
       " '__getattribute__',\n",
       " '__gt__',\n",
       " '__hash__',\n",
       " '__init__',\n",
       " '__le__',\n",
       " '__lt__',\n",
       " '__module__',\n",
       " '__ne__',\n",
       " '__new__',\n",
       " '__reduce__',\n",
       " '__reduce_ex__',\n",
       " '__repr__',\n",
       " '__setattr__',\n",
       " '__sizeof__',\n",
       " '__str__',\n",
       " '__subclasshook__',\n",
       " '__weakref__',\n",
       " '_username']"
      ]
     },
     "execution_count": 72,
     "metadata": {},
     "output_type": "execute_result"
    }
   ],
   "source": [
    "dir(confidential)"
   ]
  },
  {
   "cell_type": "code",
   "execution_count": 73,
   "metadata": {
    "collapsed": false
   },
   "outputs": [
    {
     "data": {
      "text/plain": [
       "'12345678'"
      ]
     },
     "execution_count": 73,
     "metadata": {},
     "output_type": "execute_result"
    }
   ],
   "source": [
    "confidential._Confidential__password"
   ]
  },
  {
   "cell_type": "code",
   "execution_count": null,
   "metadata": {
    "collapsed": true
   },
   "outputs": [],
   "source": []
  }
 ],
 "metadata": {
  "kernelspec": {
   "display_name": "Python 3",
   "language": "python",
   "name": "python3"
  },
  "language_info": {
   "codemirror_mode": {
    "name": "ipython",
    "version": 3
   },
   "file_extension": ".py",
   "mimetype": "text/x-python",
   "name": "python",
   "nbconvert_exporter": "python",
   "pygments_lexer": "ipython3",
   "version": "3.5.2"
  }
 },
 "nbformat": 4,
 "nbformat_minor": 1
}
