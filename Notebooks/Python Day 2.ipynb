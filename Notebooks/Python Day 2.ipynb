{
 "cells": [
  {
   "cell_type": "markdown",
   "metadata": {},
   "source": [
    "# Python Basics 2"
   ]
  },
  {
   "cell_type": "code",
   "execution_count": null,
   "metadata": {
    "collapsed": false
   },
   "outputs": [],
   "source": [
    "# Run the code below:\n",
    "\n",
    "# In python, multiple assignments can be done in one line:\n",
    "i, j = 5, 9\n",
    "\n",
    "print(i, j)"
   ]
  },
  {
   "cell_type": "code",
   "execution_count": null,
   "metadata": {
    "collapsed": false
   },
   "outputs": [],
   "source": [
    "# Finite sequences can be opened using an assignment:\n",
    "coordinates = ['hello', 8.9, 10]\n",
    "[x, y, z] = coordinates\n",
    "print(x, y, z)"
   ]
  },
  {
   "cell_type": "code",
   "execution_count": null,
   "metadata": {
    "collapsed": false
   },
   "outputs": [],
   "source": [
    "# A '_' sign can be used as a placeholder:\n",
    "i, _, j = [1, 2, 4]\n",
    "\n",
    "print(i, j)"
   ]
  },
  {
   "cell_type": "code",
   "execution_count": null,
   "metadata": {
    "collapsed": false
   },
   "outputs": [],
   "source": [
    "# String formatting can by specifying variables\n",
    "# using their order:\n",
    "print('x={0}, y={1}, z={2}'.format(x, y, y))\n",
    "\n",
    "# or by assigning names to variables (between {}) inside strings:\n",
    "print('x={x}, y={y}, z={z}'.format(y=y, x=x, z=y))"
   ]
  },
  {
   "cell_type": "code",
   "execution_count": null,
   "metadata": {
    "collapsed": false
   },
   "outputs": [],
   "source": [
    "# Run the code below:\n",
    "\n",
    "lst1 = [1, 2, 3, 4, 5]\n",
    "lst2 = ['A', 'B', 'C', 'D', 'E']\n",
    "\n",
    "zipped = zip(lst1, lst2)\n",
    "print(list(zipped))"
   ]
  },
  {
   "cell_type": "markdown",
   "metadata": {},
   "source": [
    "<span style=\"color:red\">\n",
    "What does the function zip return?<br/>\n",
    "Implement enumerate_list(lst) function which receives a list and returns another list such that enumerate_list(lst) == list(enumerate(lst)) by using the zip function.\n",
    "</span>"
   ]
  },
  {
   "cell_type": "code",
   "execution_count": null,
   "metadata": {
    "collapsed": true
   },
   "outputs": [],
   "source": [
    "def enumerate_list(lst):\n",
    "    ... # TODO: return [(0, lst[0]), (0, lst[1]), ...,\n",
    "        #               (len(lst) - 1, lst[len(lst) - 1])]"
   ]
  },
  {
   "cell_type": "code",
   "execution_count": null,
   "metadata": {
    "collapsed": false
   },
   "outputs": [],
   "source": [
    "# Test your function:\n",
    "\n",
    "weekdays = ['Sn', 'Mo', 'Tu', 'We', 'Th', 'Fr', 'St']\n",
    "enumerate_list(weekdays)"
   ]
  },
  {
   "cell_type": "markdown",
   "metadata": {},
   "source": [
    "## Exceptions\n",
    "\n",
    "Errors detected during execution are called exceptions. For instance, when dividing a number by zero, exceptions occur."
   ]
  },
  {
   "cell_type": "code",
   "execution_count": null,
   "metadata": {
    "collapsed": false
   },
   "outputs": [],
   "source": [
    "# Run the following code:\n",
    "\n",
    "57 / 0"
   ]
  },
  {
   "cell_type": "code",
   "execution_count": null,
   "metadata": {
    "collapsed": false
   },
   "outputs": [],
   "source": [
    "\"\"\"\n",
    "If the exception is not handled, it stops the execution.\n",
    "\n",
    "It is possible to handle selected exceptions. To do this surround\n",
    "the code section which cause the exception with try and except.\n",
    "\"\"\"\n",
    "def f(lst):\n",
    "    try:\n",
    "        lst[100] = 8\n",
    "        print('Will this be printed?')\n",
    "    except IndexError:\n",
    "        pass # Skipping exception without printing any message\n",
    "             # is usually not a good idea.\n",
    "    print('Good Morning!')\n",
    "\n",
    "f([1, 2])"
   ]
  },
  {
   "cell_type": "code",
   "execution_count": null,
   "metadata": {
    "collapsed": false
   },
   "outputs": [],
   "source": [
    "# Eceptions can be cast to strings. Run the following code:\n",
    "\n",
    "try:\n",
    "    57 / 0\n",
    "except ZeroDivisionError as e:\n",
    "    print('Error:', str(e))\n",
    "\n",
    "print('Will this be printed?')"
   ]
  },
  {
   "cell_type": "code",
   "execution_count": null,
   "metadata": {
    "collapsed": false
   },
   "outputs": [],
   "source": [
    "# Instead of printing only the error message,\n",
    "# traceback module can be used to trace back exceptions.\n",
    "import traceback\n",
    "\n",
    "# frozen sets are immutable version of sets\n",
    "s = frozenset({1, 2})\n",
    "\n",
    "try:\n",
    "    s[0] = 0\n",
    "except TypeError:\n",
    "    traceback.print_exc()"
   ]
  },
  {
   "cell_type": "markdown",
   "metadata": {},
   "source": [
    "## List Comprehensions\n",
    "\n",
    "In python, there is a special syntax for looping over elements of a list to create another list."
   ]
  },
  {
   "cell_type": "code",
   "execution_count": null,
   "metadata": {
    "collapsed": false
   },
   "outputs": [],
   "source": [
    "# Run the following:\n",
    "\n",
    "letters_ascii = list(range(ord('A'), ord('Z') + 1))\n",
    "\n",
    "lst1 = []\n",
    "for i in letters_ascii:\n",
    "    lst1.append(chr(i))\n",
    "\n",
    "lst2 = [chr(i) for i in letters_ascii]\n",
    "\n",
    "lst1 == lst2 == ['A', 'B', 'C', 'D', 'E', 'F', 'G', 'H', 'I', 'J',\n",
    "                 'K', 'L', 'M', 'N', 'O', 'P', 'Q', 'R', 'S', 'T', \n",
    "                 'U', 'V', 'W', 'X', 'Y', 'Z']"
   ]
  },
  {
   "cell_type": "markdown",
   "metadata": {},
   "source": [
    "lst2 above was created using list comprehension. List comprehension works faster then regular loops."
   ]
  },
  {
   "cell_type": "code",
   "execution_count": null,
   "metadata": {
    "collapsed": false
   },
   "outputs": [],
   "source": [
    "# List comprehensions can also be used to filter elements of a list.\n",
    "\n",
    "evens = [i for i in range(10) if i % 2 == 0]\n",
    "evens"
   ]
  },
  {
   "cell_type": "markdown",
   "metadata": {},
   "source": [
    "Dictionaries can also be created with dictionary comprehension."
   ]
  },
  {
   "cell_type": "code",
   "execution_count": null,
   "metadata": {
    "collapsed": false
   },
   "outputs": [],
   "source": [
    "# Run the code below:\n",
    "\n",
    "ascii_letters = range(ord('A'), ord('Z') + 1)\n",
    "d = {chr(i): i for i in ascii_letters}\n",
    "d"
   ]
  },
  {
   "cell_type": "markdown",
   "metadata": {},
   "source": [
    "<span style=\"color:red\">\n",
    "What does variable d contain?<br/>\n",
    "</span>"
   ]
  },
  {
   "cell_type": "code",
   "execution_count": null,
   "metadata": {
    "collapsed": false
   },
   "outputs": [],
   "source": [
    "# Sets can also be created with set comprehension.\n",
    "\n",
    "{i for i in range(10)} == set([i for i in range(10)])"
   ]
  },
  {
   "cell_type": "markdown",
   "metadata": {},
   "source": [
    "<span style=\"color:red\">\n",
    "Implement a function map(func, lst) which applies the function func to every item of lst<br/>\n",
    "Implement the function filter(func, lst) which returns a list with only those elements of lst on which func returns True.<br/>\n",
    "</span>\n",
    "There are built-in functions map() and filter() with a similar logic."
   ]
  },
  {
   "cell_type": "markdown",
   "metadata": {},
   "source": [
    "## Deleting Entries from Dictionaries and Lists"
   ]
  },
  {
   "cell_type": "code",
   "execution_count": null,
   "metadata": {
    "collapsed": false
   },
   "outputs": [],
   "source": [
    "# del keyword can be used remove an entry from dictionary\n",
    "\n",
    "# Run the following code:\n",
    "d = {1:2, 2:3, 3:4}\n",
    "\n",
    "del d[1]\n",
    "print(d)\n",
    "\n",
    "# and from list:\n",
    "lst = [1, 2, 3]\n",
    "del lst[2]\n",
    "\n",
    "# Remove function can also be used to remove elements from sets\n",
    "# (del won't work with sets):\n",
    "s = {1, 2, 3, 4}\n",
    "s.remove(3)\n",
    "print(s)"
   ]
  },
  {
   "cell_type": "markdown",
   "metadata": {},
   "source": [
    "<div style=\"color:red\">What is the worst case time complexity of deleting an entry from a list using del?</div>\n",
    "<div style=\"color:red\">What is the worst case time complexity of deleting an entry from a dictionary using del?</div>"
   ]
  },
  {
   "cell_type": "markdown",
   "metadata": {},
   "source": [
    "## doctstrings and doctest"
   ]
  },
  {
   "cell_type": "code",
   "execution_count": null,
   "metadata": {
    "collapsed": false
   },
   "outputs": [],
   "source": [
    "# Define a function:\n",
    "\n",
    "def plus(n, m):\n",
    "    \"\"\"plus function adds two numbers. Sample usage:\n",
    "       \n",
    "    >>> plus(5, 6)\n",
    "    11\n",
    "    \"\"\"\n",
    "    return n + m\n",
    "\n",
    "# The docomentation can be seen using help:\n",
    "help(plus)"
   ]
  },
  {
   "cell_type": "code",
   "execution_count": null,
   "metadata": {
    "collapsed": false
   },
   "outputs": [],
   "source": [
    "# it can be tested using the doctest module\n",
    "\n",
    "import doctest\n",
    "\n",
    "doctest.testmod()"
   ]
  },
  {
   "cell_type": "markdown",
   "metadata": {},
   "source": [
    "## Generators\n",
    "\n",
    "Generator functions allow you to declare a function that behaves like an iterator, i.e. it can be used in a for loop. That is, generator functions can return multiple values using the *yield* keyword."
   ]
  },
  {
   "cell_type": "code",
   "execution_count": null,
   "metadata": {
    "collapsed": false
   },
   "outputs": [],
   "source": [
    "# Run the code below:\n",
    "\n",
    "def range_generator(n):\n",
    "    \"\"\"This function is a generator which creates a range of numbers from 0 to n\"\"\"\n",
    "    \n",
    "    i = 0\n",
    "    while i < n:\n",
    "        yield i\n",
    "        i += 1\n",
    "\n",
    "def range_list(n):\n",
    "    \"\"\"This function returns a list of numbers from 0 to n\"\"\"\n",
    "    \n",
    "    lst = []\n",
    "    i = 0\n",
    "    while i < n:\n",
    "        lst += [i]\n",
    "        i += 1\n",
    "\n",
    "    return lst\n",
    "\n",
    "for i in range_list(2):\n",
    "    print(i)\n",
    "\n",
    "for i in range_generator(3):\n",
    "    print(i)"
   ]
  },
  {
   "cell_type": "markdown",
   "metadata": {},
   "source": [
    "<span style=\"color:red\">What is the space complexity of range_generator(n)? What is the space complexity of range_list(n)? <br/>\n",
    "When is it better to use generators instead of lists?<br/>\n",
    "When is it better to use lists instead of generators?\n",
    "</span>"
   ]
  },
  {
   "cell_type": "code",
   "execution_count": null,
   "metadata": {
    "collapsed": false
   },
   "outputs": [],
   "source": [
    "# Run the code below:\n",
    "\n",
    "values = range_generator(2)\n",
    "values_as_list = list(values)\n",
    "print('The values are: ', list(values))\n",
    "\n",
    "try:\n",
    "    values = range_generator(2)\n",
    "    values[0]\n",
    "except TypeError as e:\n",
    "    print('Error:', e)"
   ]
  },
  {
   "cell_type": "markdown",
   "metadata": {},
   "source": [
    "<span style=\"color:red\">\n",
    "Why an empty list was printed?<br/>\n",
    "Why did the error occur?\n",
    "</span>"
   ]
  },
  {
   "cell_type": "code",
   "execution_count": null,
   "metadata": {
    "collapsed": false
   },
   "outputs": [],
   "source": [
    "# Run the following:\n",
    "\n",
    "# yield from lst can be used to yield all the elements of a list\n",
    "def yield_list(lst):\n",
    "    yield from lst\n",
    "\n",
    "# yield without a value is the same as writing yield None\n",
    "def none_yields():\n",
    "    yield\n",
    "    yield\n",
    "\n",
    "list(none_yields()) == list(yield_list([None, None])) # => True"
   ]
  },
  {
   "cell_type": "markdown",
   "metadata": {},
   "source": [
    "<span style=\"color:red\">\n",
    "Why does the expression in the last line of the code above equals True?\n",
    "</span>"
   ]
  },
  {
   "cell_type": "code",
   "execution_count": null,
   "metadata": {
    "collapsed": false
   },
   "outputs": [],
   "source": [
    "# We can yield infinite number of times:\n",
    "\n",
    "def infinite():\n",
    "    while True:\n",
    "        yield"
   ]
  },
  {
   "cell_type": "markdown",
   "metadata": {},
   "source": [
    "\"Tuple\" comprehension (when list comprehension is done with round brackets) returns a generator and not a tuple."
   ]
  },
  {
   "cell_type": "code",
   "execution_count": null,
   "metadata": {
    "collapsed": false
   },
   "outputs": [],
   "source": [
    "# Run the code below:\n",
    "\n",
    "g = (i for i in [1, 2, 3])\n",
    "type(g)"
   ]
  },
  {
   "cell_type": "markdown",
   "metadata": {},
   "source": [
    "<span style=\"color:red\">\n",
    "Define a generator of all natural numbers (with zero). Use the infinite generator defined above.\n",
    "</span>"
   ]
  },
  {
   "cell_type": "markdown",
   "metadata": {},
   "source": [
    "## Scopes"
   ]
  },
  {
   "cell_type": "code",
   "execution_count": null,
   "metadata": {
    "collapsed": false
   },
   "outputs": [],
   "source": [
    "# Functions can be defined inside other functions\n",
    "\n",
    "def f(a):\n",
    "    def g(a):\n",
    "        return a + 9\n",
    "    return g(a) + 10\n",
    "\n",
    "f(50)\n",
    "\n",
    "# Variables are looked up in the most inner scope first.\n",
    "# Nested functions cannot be called directly from\n",
    "# outside the surrounding function."
   ]
  },
  {
   "cell_type": "markdown",
   "metadata": {},
   "source": [
    "<span style=\"color:red\">\n",
    "How can g() still be used outside f()?\n",
    "</span>"
   ]
  },
  {
   "cell_type": "code",
   "execution_count": null,
   "metadata": {
    "collapsed": false
   },
   "outputs": [],
   "source": [
    "# To reasign a variable of an outer function, 'nonlocal' keyword\n",
    "# (or 'global' for global variables) can be used.\n",
    "\n",
    "# What will the following code print?\n",
    "\n",
    "y = 0\n",
    "def f():\n",
    "    x = 0\n",
    "    def g():\n",
    "        nonlocal x\n",
    "        global y\n",
    "        \n",
    "        x = 50\n",
    "        y = 50\n",
    "    g()\n",
    "    return x + y\n",
    "\n",
    "print(f())"
   ]
  },
  {
   "cell_type": "markdown",
   "metadata": {},
   "source": [
    "## Courroutines"
   ]
  },
  {
   "cell_type": "code",
   "execution_count": null,
   "metadata": {
    "collapsed": false
   },
   "outputs": [],
   "source": [
    "# yield can be used to not only to return values but also to receive them.\n",
    "\n",
    "def consumer():\n",
    "    value = yield\n",
    "    while True:\n",
    "        print(value)\n",
    "        value = yield\n",
    "\n",
    "def producer(consumer):\n",
    "    next(consumer)\n",
    "    for i in range(16):\n",
    "        consumer.send(i)\n",
    "\n",
    "producer(consumer())"
   ]
  },
  {
   "cell_type": "code",
   "execution_count": null,
   "metadata": {
    "collapsed": true
   },
   "outputs": [],
   "source": []
  }
 ],
 "metadata": {
  "kernelspec": {
   "display_name": "Python 3",
   "language": "python",
   "name": "python3"
  },
  "language_info": {
   "codemirror_mode": {
    "name": "ipython",
    "version": 3
   },
   "file_extension": ".py",
   "mimetype": "text/x-python",
   "name": "python",
   "nbconvert_exporter": "python",
   "pygments_lexer": "ipython3",
   "version": "3.5.2"
  }
 },
 "nbformat": 4,
 "nbformat_minor": 1
}
