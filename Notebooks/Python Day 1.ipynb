{
 "cells": [
  {
   "cell_type": "markdown",
   "metadata": {},
   "source": [
    "# Python Basics"
   ]
  },
  {
   "cell_type": "code",
   "execution_count": null,
   "metadata": {
    "collapsed": false,
    "slideshow": {
     "slide_type": "-"
    }
   },
   "outputs": [],
   "source": [
    "# Comment until the end of line\n",
    "\"\"\"comment\n",
    "\n",
    "\n",
    "another line\n",
    "\n",
    "\n",
    "\"\"\""
   ]
  },
  {
   "cell_type": "markdown",
   "metadata": {},
   "source": [
    "Python is a *dynamically typed* programming language. Types are decided at runtime. A special built-in function *type* returns the type of an object."
   ]
  },
  {
   "cell_type": "code",
   "execution_count": null,
   "metadata": {
    "collapsed": false
   },
   "outputs": [],
   "source": [
    "# Run the code below in an interpreter:\n",
    "\n",
    "s = \"Hello, World! שלום\"\n",
    "print(s[0])\n",
    "bt = b'Hello'\n",
    "print(bt[0])\n",
    "n = 55\n",
    "f = 5.5\n",
    "b = True\n",
    "null = None\n",
    "\n",
    "print(type(\"Hello\"))\n",
    "print(type(n))\n",
    "print(type(f))\n",
    "print(type(b))\n",
    "print(type(null))"
   ]
  },
  {
   "cell_type": "markdown",
   "metadata": {},
   "source": [
    "## Basic unary and binary operations"
   ]
  },
  {
   "cell_type": "code",
   "execution_count": null,
   "metadata": {
    "collapsed": false
   },
   "outputs": [],
   "source": [
    "# Run the code below in an interpreter:\n",
    "\n",
    "# Getting input string from the user\n",
    "name = input('Your name is ')\n",
    "\n",
    "# Strings can be added and multiplied\n",
    "print(name + \", very nice to meet you\" + ('!' * 10))"
   ]
  },
  {
   "cell_type": "markdown",
   "metadata": {},
   "source": [
    "<span style=\"color:red\">What happens when two strings are added?</span><br/>\n",
    "<span style=\"color:red\">What happens when string is multiplied by an integer?</span>"
   ]
  },
  {
   "cell_type": "markdown",
   "metadata": {},
   "source": [
    "## Arithmetical and boolean operations"
   ]
  },
  {
   "cell_type": "code",
   "execution_count": null,
   "metadata": {
    "collapsed": false
   },
   "outputs": [],
   "source": [
    "# Run the code below in an interpreter:\n",
    "\n",
    "# Getting input int from the user\n",
    "n = int(input(\"Type a number: \"))"
   ]
  },
  {
   "cell_type": "markdown",
   "metadata": {},
   "source": [
    "<span style=\"color:red\">In the interpreter, define an int variable x which equals $322.0625 -\\frac{(n^2 + 1456)}{16}$</span>"
   ]
  },
  {
   "cell_type": "code",
   "execution_count": null,
   "metadata": {
    "collapsed": true
   },
   "outputs": [],
   "source": [
    "x = ... # Change this line to calculate the correct value."
   ]
  },
  {
   "cell_type": "markdown",
   "metadata": {},
   "source": [
    "<span style=\"color:red\">What is the value of x rounded to 2 decimal points?</span>"
   ]
  },
  {
   "cell_type": "code",
   "execution_count": null,
   "metadata": {
    "collapsed": false
   },
   "outputs": [],
   "source": [
    "# Run the code below in an interpreter:\n",
    "50 < x < 100 and False"
   ]
  },
  {
   "cell_type": "markdown",
   "metadata": {},
   "source": [
    "<span style=\"color:red\">What is the value and the type of b?</span><br/>\n",
    "<span style=\"color:red\">What is the value and the type of c?</span><br/>"
   ]
  },
  {
   "cell_type": "code",
   "execution_count": null,
   "metadata": {
    "collapsed": false
   },
   "outputs": [],
   "source": [
    "# Type in the interpreter:\n",
    "2 ** 16"
   ]
  },
  {
   "cell_type": "markdown",
   "metadata": {},
   "source": [
    "<span style=\"color:red\">What are the last 4 digits of $7^{28}$ (calculate it with python)?</span>"
   ]
  },
  {
   "cell_type": "code",
   "execution_count": null,
   "metadata": {
    "collapsed": false
   },
   "outputs": [],
   "source": [
    "7 ** 28"
   ]
  },
  {
   "cell_type": "markdown",
   "metadata": {},
   "source": [
    "## Lists and Tuples\n",
    "List is an array in python. Tuple is a list that cannot be changed."
   ]
  },
  {
   "cell_type": "code",
   "execution_count": null,
   "metadata": {
    "collapsed": false
   },
   "outputs": [],
   "source": [
    "# Run the code below in an interpreter:\n",
    "\n",
    "# Declare a list:\n",
    "lst = [1, 2, 3, 4, 5]\n",
    "\n",
    "# Change the values of the list:\n",
    "lst[0] = 'Hello'\n",
    "lst[-1] = 20"
   ]
  },
  {
   "cell_type": "markdown",
   "metadata": {},
   "source": [
    "<span style=\"color:red\">What is the the value of the $4^{\\text th}$ element of lst?</span>"
   ]
  },
  {
   "cell_type": "code",
   "execution_count": null,
   "metadata": {
    "collapsed": false
   },
   "outputs": [],
   "source": [
    "# Run the code below in an interpreter:\n",
    "\n",
    "# Declare the following tuple (tuple is a list that cannot be changed)\n",
    "tpl = (1, 2, 3, 4, 5)\n",
    "\n",
    "# Set the value of tpl[0] to 0.\n",
    "tpl[0] = 0"
   ]
  },
  {
   "cell_type": "markdown",
   "metadata": {},
   "source": [
    "<span style=\"color:red\">Was there an error when you tried to run the code above?</span>\n",
    "<span style=\"color:red\">Why?</span>"
   ]
  },
  {
   "cell_type": "code",
   "execution_count": null,
   "metadata": {
    "collapsed": false
   },
   "outputs": [],
   "source": [
    "# Looking for a value in a list. Type and write the result:\n",
    "5 in lst # => True\n",
    "\n",
    "# Lists in python are imlemented as arrays.\n",
    "# What is the complexity of the previous operation?"
   ]
  },
  {
   "cell_type": "markdown",
   "metadata": {},
   "source": [
    "## Indexing\n",
    "Strings, lists and tuples can all be indexed and iterated."
   ]
  },
  {
   "cell_type": "code",
   "execution_count": null,
   "metadata": {
    "collapsed": true
   },
   "outputs": [],
   "source": [
    "# Define the following string:\n",
    "\n",
    "s = \"Rose is a rose is a rose\""
   ]
  },
  {
   "cell_type": "markdown",
   "metadata": {},
   "source": [
    "<span style=\"color:red\">Calculate in the interpreter the values of s[0], s[-1],\n",
    "s[0:3], s[:3], s[-6:], s[::5], s[::-3].<span>"
   ]
  },
  {
   "cell_type": "code",
   "execution_count": null,
   "metadata": {
    "collapsed": false
   },
   "outputs": [],
   "source": [
    "# Run the following to answer the question above:\n",
    "\n",
    "s[0]\n",
    "s[-1]\n",
    "s[0:3]\n",
    "s[3:]\n",
    "s[-6:]"
   ]
  },
  {
   "cell_type": "markdown",
   "metadata": {},
   "source": [
    "## Casting\n",
    "Cast from one type to another can be done using built-in functions int, float, list, tuple, bool, etc."
   ]
  },
  {
   "cell_type": "markdown",
   "metadata": {},
   "source": [
    "<span style=\"color:red\">\n",
    "Print in the interpreter the types and the values of:\n",
    "* tuple(\"Anna\")\n",
    "* int(5.5)\n",
    "* bool([])\n",
    "* bool([0])\n",
    "</span>"
   ]
  },
  {
   "cell_type": "markdown",
   "metadata": {},
   "source": [
    "## Sets and dictionaries"
   ]
  },
  {
   "cell_type": "code",
   "execution_count": null,
   "metadata": {
    "collapsed": false
   },
   "outputs": [],
   "source": [
    "# Sets and dictionaries are implemented in python with hashtables.\n",
    "# Run the code below:\n",
    "\n",
    "# Define a set of strings:\n",
    "rooms = {'Doors', 'Rolling Stones', 'Chagall', 'Picasso'}\n",
    "\n",
    "'Doors' in rooms"
   ]
  },
  {
   "cell_type": "markdown",
   "metadata": {},
   "source": [
    "<span style=\"color:red\">What was the complexity of the last command?</span>"
   ]
  },
  {
   "cell_type": "code",
   "execution_count": null,
   "metadata": {
    "collapsed": false
   },
   "outputs": [],
   "source": [
    "# Run the code below:\n",
    "\n",
    "# Define a dictionary:\n",
    "rooms = {'floor0': ['Doors', 'Rolling Stones'],\n",
    "         'floor2': ['Chagall', 'Picasso']}\n",
    "print(rooms['floor0'])"
   ]
  },
  {
   "cell_type": "markdown",
   "metadata": {},
   "source": [
    "<span style=\"color:red\">What is the type of rooms[\"floor0\"]? How do you check it in python?</span>"
   ]
  },
  {
   "cell_type": "markdown",
   "metadata": {
    "collapsed": true
   },
   "source": [
    "## Identation\n",
    "\n",
    "Indentation is Python’s way of grouping statements."
   ]
  },
  {
   "cell_type": "code",
   "execution_count": null,
   "metadata": {
    "collapsed": false
   },
   "outputs": [],
   "source": [
    "# If:\n",
    "\n",
    "if 4 < 6 < 8:\n",
    "    if 9 < 5:\n",
    "        print('Jenny')\n",
    "    print('Jerry')\n",
    "else:\n",
    "    print('Lenny')\n",
    "    \n",
    "# While:\n",
    "\n",
    "i = 0\n",
    "lst = []\n",
    "while i < 10:\n",
    "    lst += [i]\n",
    "    #lst.append(i)\n",
    "    i += 1\n",
    "\n",
    "print(lst)"
   ]
  },
  {
   "cell_type": "markdown",
   "metadata": {},
   "source": [
    "<span style=\"color:red\">Run the above code in an interpreter. What is the output?</span>"
   ]
  },
  {
   "cell_type": "markdown",
   "metadata": {
    "collapsed": false
   },
   "source": [
    "For loops in python are similar to foreach loops in other languages: the go over every element of a list/string/tuple or any other iterable.\n",
    "\n",
    "The built-in function *range(n)* creates an iterable with values [0, 1, ..., n-1]"
   ]
  },
  {
   "cell_type": "code",
   "execution_count": null,
   "metadata": {
    "collapsed": false
   },
   "outputs": [],
   "source": [
    "list(range(1, 4, 2))"
   ]
  },
  {
   "cell_type": "code",
   "execution_count": null,
   "metadata": {
    "collapsed": false
   },
   "outputs": [],
   "source": [
    "# For\n",
    "\n",
    "for number in [4, 3, 2, 1, 0]:\n",
    "    print(number)\n",
    "    \n",
    "for number in range(4):\n",
    "    print(number)\n",
    "    \n",
    "for floor in rooms.keys():\n",
    "    print(floor)"
   ]
  },
  {
   "cell_type": "markdown",
   "metadata": {},
   "source": [
    "<span style=\"color:red\">Run the above code in an interpreter. What is the output?</span>"
   ]
  },
  {
   "cell_type": "markdown",
   "metadata": {
    "collapsed": true
   },
   "source": [
    "## Functions"
   ]
  },
  {
   "cell_type": "code",
   "execution_count": null,
   "metadata": {
    "collapsed": false
   },
   "outputs": [],
   "source": [
    "# Functions are defined as follows:\n",
    "\n",
    "def function_name(argument, arg2=(1,2)):\n",
    "    print(arg2)\n",
    "    \n",
    "function_name(0)"
   ]
  },
  {
   "cell_type": "code",
   "execution_count": null,
   "metadata": {
    "collapsed": false
   },
   "outputs": [],
   "source": [
    "# A function for approximating square root with Babylonian method:\n",
    "\n",
    "def sqrt(n):\n",
    "    oldguess = -1\n",
    "    guess = 1\n",
    "    while abs(guess - oldguess) > 1:\n",
    "        oldguess = guess\n",
    "        guess = (guess + n / guess) / 2\n",
    "    return guess\n",
    "\n",
    "sqrt(64)"
   ]
  },
  {
   "cell_type": "markdown",
   "metadata": {
    "collapsed": true
   },
   "source": [
    "<span style=\"color:red\">Write a function is_anagram(s1, s2) which gets two string and returns True if s1 is an anagram of s2 and False otherwise.</span>"
   ]
  },
  {
   "cell_type": "code",
   "execution_count": null,
   "metadata": {
    "collapsed": true
   },
   "outputs": [],
   "source": [
    "def is_anagram(s1, s2):\n",
    "    return ..."
   ]
  },
  {
   "cell_type": "code",
   "execution_count": null,
   "metadata": {
    "collapsed": false
   },
   "outputs": [],
   "source": [
    "is_anagram('eleven plus two', 'twelve plus one')"
   ]
  },
  {
   "cell_type": "markdown",
   "metadata": {},
   "source": [
    "## Default Values"
   ]
  },
  {
   "cell_type": "code",
   "execution_count": null,
   "metadata": {
    "collapsed": true
   },
   "outputs": [],
   "source": [
    "def f(a, b=8, c=11, d=50):\n",
    "    print(a, b)"
   ]
  }
 ],
 "metadata": {
  "kernelspec": {
   "display_name": "Python 3",
   "language": "python",
   "name": "python3"
  },
  "language_info": {
   "codemirror_mode": {
    "name": "ipython",
    "version": 3
   },
   "file_extension": ".py",
   "mimetype": "text/x-python",
   "name": "python",
   "nbconvert_exporter": "python",
   "pygments_lexer": "ipython3",
   "version": "3.5.2"
  }
 },
 "nbformat": 4,
 "nbformat_minor": 1
}
